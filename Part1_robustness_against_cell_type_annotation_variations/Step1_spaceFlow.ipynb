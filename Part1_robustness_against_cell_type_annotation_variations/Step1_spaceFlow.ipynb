{
 "cells": [
  {
   "cell_type": "markdown",
   "id": "764ae382-484d-4973-9880-10ff49e04581",
   "metadata": {},
   "source": [
    "# Notes"
   ]
  },
  {
   "cell_type": "markdown",
   "id": "084c5d28-6b33-426e-b752-69ca1182c802",
   "metadata": {},
   "source": [
    "# Load Modules"
   ]
  },
  {
   "cell_type": "code",
   "execution_count": 1,
   "id": "c16970e4-f981-4a93-82e9-973fa54b8d43",
   "metadata": {
    "execution": {
     "iopub.execute_input": "2024-08-06T01:04:08.711626Z",
     "iopub.status.busy": "2024-08-06T01:04:08.710852Z",
     "iopub.status.idle": "2024-08-06T01:05:45.367003Z",
     "shell.execute_reply": "2024-08-06T01:05:45.365296Z",
     "shell.execute_reply.started": "2024-08-06T01:04:08.711574Z"
    }
   },
   "outputs": [],
   "source": [
    "import numpy as np\n",
    "import pandas as pd\n",
    "\n",
    "import anndata as adata\n",
    "import scanpy as sc\n",
    "import squidpy as sq\n",
    "from SpaceFlow import SpaceFlow"
   ]
  },
  {
   "cell_type": "markdown",
   "id": "e76ce21c-0c67-400b-8b62-12db6b355701",
   "metadata": {},
   "source": [
    "# Load Data"
   ]
  },
  {
   "cell_type": "code",
   "execution_count": 2,
   "id": "12e44fc1-0eed-494c-acd8-fbe6b5262d1c",
   "metadata": {
    "execution": {
     "iopub.execute_input": "2024-08-06T01:05:45.372821Z",
     "iopub.status.busy": "2024-08-06T01:05:45.369674Z",
     "iopub.status.idle": "2024-08-06T01:05:45.625287Z",
     "shell.execute_reply": "2024-08-06T01:05:45.624564Z",
     "shell.execute_reply.started": "2024-08-06T01:05:45.372779Z"
    },
    "scrolled": true
   },
   "outputs": [
    {
     "data": {
      "text/html": [
       "<div>\n",
       "<style scoped>\n",
       "    .dataframe tbody tr th:only-of-type {\n",
       "        vertical-align: middle;\n",
       "    }\n",
       "\n",
       "    .dataframe tbody tr th {\n",
       "        vertical-align: top;\n",
       "    }\n",
       "\n",
       "    .dataframe thead th {\n",
       "        text-align: right;\n",
       "    }\n",
       "</style>\n",
       "<table border=\"1\" class=\"dataframe\">\n",
       "  <thead>\n",
       "    <tr style=\"text-align: right;\">\n",
       "      <th></th>\n",
       "      <th>1700022I11Rik</th>\n",
       "      <th>1810046K07Rik</th>\n",
       "      <th>5031425F14Rik</th>\n",
       "      <th>5730522E02Rik</th>\n",
       "      <th>Acta2</th>\n",
       "      <th>Adam2</th>\n",
       "      <th>Adamts2</th>\n",
       "      <th>Adamts4</th>\n",
       "      <th>Adra1b</th>\n",
       "      <th>Alk</th>\n",
       "      <th>...</th>\n",
       "      <th>Gad2</th>\n",
       "      <th>Tac2</th>\n",
       "      <th>Lamp5</th>\n",
       "      <th>Cnr1</th>\n",
       "      <th>Pvalb</th>\n",
       "      <th>Sst</th>\n",
       "      <th>Rab3b</th>\n",
       "      <th>Slc17a7</th>\n",
       "      <th>Penk</th>\n",
       "      <th>Gad1</th>\n",
       "    </tr>\n",
       "    <tr>\n",
       "      <th>index</th>\n",
       "      <th></th>\n",
       "      <th></th>\n",
       "      <th></th>\n",
       "      <th></th>\n",
       "      <th></th>\n",
       "      <th></th>\n",
       "      <th></th>\n",
       "      <th></th>\n",
       "      <th></th>\n",
       "      <th></th>\n",
       "      <th></th>\n",
       "      <th></th>\n",
       "      <th></th>\n",
       "      <th></th>\n",
       "      <th></th>\n",
       "      <th></th>\n",
       "      <th></th>\n",
       "      <th></th>\n",
       "      <th></th>\n",
       "      <th></th>\n",
       "      <th></th>\n",
       "    </tr>\n",
       "  </thead>\n",
       "  <tbody>\n",
       "    <tr>\n",
       "      <th>100029194729477472162047791686277547250</th>\n",
       "      <td>0.0</td>\n",
       "      <td>0.639048</td>\n",
       "      <td>0.000000</td>\n",
       "      <td>0.000000</td>\n",
       "      <td>1.278096</td>\n",
       "      <td>0.0</td>\n",
       "      <td>0.0</td>\n",
       "      <td>0.000000</td>\n",
       "      <td>0.000000</td>\n",
       "      <td>0.0</td>\n",
       "      <td>...</td>\n",
       "      <td>2.310253</td>\n",
       "      <td>0.829325</td>\n",
       "      <td>0.474121</td>\n",
       "      <td>0.132923</td>\n",
       "      <td>0.327166</td>\n",
       "      <td>0.060279</td>\n",
       "      <td>0.690492</td>\n",
       "      <td>8.538511</td>\n",
       "      <td>0.299263</td>\n",
       "      <td>0.000000</td>\n",
       "    </tr>\n",
       "    <tr>\n",
       "      <th>100141638384685944504186567613653468492</th>\n",
       "      <td>0.0</td>\n",
       "      <td>1.257111</td>\n",
       "      <td>0.628556</td>\n",
       "      <td>0.000000</td>\n",
       "      <td>1.257111</td>\n",
       "      <td>0.0</td>\n",
       "      <td>0.0</td>\n",
       "      <td>0.000000</td>\n",
       "      <td>0.000000</td>\n",
       "      <td>0.0</td>\n",
       "      <td>...</td>\n",
       "      <td>1.582022</td>\n",
       "      <td>0.742696</td>\n",
       "      <td>0.301457</td>\n",
       "      <td>0.000000</td>\n",
       "      <td>0.473207</td>\n",
       "      <td>0.110925</td>\n",
       "      <td>0.455704</td>\n",
       "      <td>6.424842</td>\n",
       "      <td>0.267111</td>\n",
       "      <td>0.062081</td>\n",
       "    </tr>\n",
       "    <tr>\n",
       "      <th>100199724260696365101982675842433317515</th>\n",
       "      <td>0.0</td>\n",
       "      <td>0.000000</td>\n",
       "      <td>0.000000</td>\n",
       "      <td>0.000000</td>\n",
       "      <td>0.000000</td>\n",
       "      <td>0.0</td>\n",
       "      <td>0.0</td>\n",
       "      <td>0.000000</td>\n",
       "      <td>0.000000</td>\n",
       "      <td>0.0</td>\n",
       "      <td>...</td>\n",
       "      <td>1.019630</td>\n",
       "      <td>0.615762</td>\n",
       "      <td>0.207185</td>\n",
       "      <td>0.000000</td>\n",
       "      <td>0.172705</td>\n",
       "      <td>0.039713</td>\n",
       "      <td>0.437275</td>\n",
       "      <td>6.408589</td>\n",
       "      <td>0.153680</td>\n",
       "      <td>0.182817</td>\n",
       "    </tr>\n",
       "    <tr>\n",
       "      <th>100216512810042512738054357433364423486</th>\n",
       "      <td>0.0</td>\n",
       "      <td>0.611595</td>\n",
       "      <td>0.000000</td>\n",
       "      <td>0.611595</td>\n",
       "      <td>1.223191</td>\n",
       "      <td>0.0</td>\n",
       "      <td>0.0</td>\n",
       "      <td>0.611595</td>\n",
       "      <td>7.950741</td>\n",
       "      <td>0.0</td>\n",
       "      <td>...</td>\n",
       "      <td>3.065554</td>\n",
       "      <td>1.206609</td>\n",
       "      <td>0.157893</td>\n",
       "      <td>0.000000</td>\n",
       "      <td>0.646352</td>\n",
       "      <td>0.339363</td>\n",
       "      <td>0.872653</td>\n",
       "      <td>10.740067</td>\n",
       "      <td>0.403160</td>\n",
       "      <td>0.000000</td>\n",
       "    </tr>\n",
       "    <tr>\n",
       "      <th>100375818383721597063890253100110999488</th>\n",
       "      <td>0.0</td>\n",
       "      <td>0.000000</td>\n",
       "      <td>0.000000</td>\n",
       "      <td>0.000000</td>\n",
       "      <td>0.000000</td>\n",
       "      <td>0.0</td>\n",
       "      <td>0.0</td>\n",
       "      <td>0.000000</td>\n",
       "      <td>3.459550</td>\n",
       "      <td>0.0</td>\n",
       "      <td>...</td>\n",
       "      <td>1.132629</td>\n",
       "      <td>0.929838</td>\n",
       "      <td>1.250991</td>\n",
       "      <td>0.000000</td>\n",
       "      <td>0.206087</td>\n",
       "      <td>0.268405</td>\n",
       "      <td>1.293051</td>\n",
       "      <td>16.535923</td>\n",
       "      <td>0.413652</td>\n",
       "      <td>0.000000</td>\n",
       "    </tr>\n",
       "  </tbody>\n",
       "</table>\n",
       "<p>5 rows × 254 columns</p>\n",
       "</div>"
      ],
      "text/plain": [
       "                                         1700022I11Rik  1810046K07Rik  \\\n",
       "index                                                                   \n",
       "100029194729477472162047791686277547250            0.0       0.639048   \n",
       "100141638384685944504186567613653468492            0.0       1.257111   \n",
       "100199724260696365101982675842433317515            0.0       0.000000   \n",
       "100216512810042512738054357433364423486            0.0       0.611595   \n",
       "100375818383721597063890253100110999488            0.0       0.000000   \n",
       "\n",
       "                                         5031425F14Rik  5730522E02Rik  \\\n",
       "index                                                                   \n",
       "100029194729477472162047791686277547250       0.000000       0.000000   \n",
       "100141638384685944504186567613653468492       0.628556       0.000000   \n",
       "100199724260696365101982675842433317515       0.000000       0.000000   \n",
       "100216512810042512738054357433364423486       0.000000       0.611595   \n",
       "100375818383721597063890253100110999488       0.000000       0.000000   \n",
       "\n",
       "                                            Acta2  Adam2  Adamts2   Adamts4  \\\n",
       "index                                                                         \n",
       "100029194729477472162047791686277547250  1.278096    0.0      0.0  0.000000   \n",
       "100141638384685944504186567613653468492  1.257111    0.0      0.0  0.000000   \n",
       "100199724260696365101982675842433317515  0.000000    0.0      0.0  0.000000   \n",
       "100216512810042512738054357433364423486  1.223191    0.0      0.0  0.611595   \n",
       "100375818383721597063890253100110999488  0.000000    0.0      0.0  0.000000   \n",
       "\n",
       "                                           Adra1b  Alk  ...      Gad2  \\\n",
       "index                                                   ...             \n",
       "100029194729477472162047791686277547250  0.000000  0.0  ...  2.310253   \n",
       "100141638384685944504186567613653468492  0.000000  0.0  ...  1.582022   \n",
       "100199724260696365101982675842433317515  0.000000  0.0  ...  1.019630   \n",
       "100216512810042512738054357433364423486  7.950741  0.0  ...  3.065554   \n",
       "100375818383721597063890253100110999488  3.459550  0.0  ...  1.132629   \n",
       "\n",
       "                                             Tac2     Lamp5      Cnr1  \\\n",
       "index                                                                   \n",
       "100029194729477472162047791686277547250  0.829325  0.474121  0.132923   \n",
       "100141638384685944504186567613653468492  0.742696  0.301457  0.000000   \n",
       "100199724260696365101982675842433317515  0.615762  0.207185  0.000000   \n",
       "100216512810042512738054357433364423486  1.206609  0.157893  0.000000   \n",
       "100375818383721597063890253100110999488  0.929838  1.250991  0.000000   \n",
       "\n",
       "                                            Pvalb       Sst     Rab3b  \\\n",
       "index                                                                   \n",
       "100029194729477472162047791686277547250  0.327166  0.060279  0.690492   \n",
       "100141638384685944504186567613653468492  0.473207  0.110925  0.455704   \n",
       "100199724260696365101982675842433317515  0.172705  0.039713  0.437275   \n",
       "100216512810042512738054357433364423486  0.646352  0.339363  0.872653   \n",
       "100375818383721597063890253100110999488  0.206087  0.268405  1.293051   \n",
       "\n",
       "                                           Slc17a7      Penk      Gad1  \n",
       "index                                                                   \n",
       "100029194729477472162047791686277547250   8.538511  0.299263  0.000000  \n",
       "100141638384685944504186567613653468492   6.424842  0.267111  0.062081  \n",
       "100199724260696365101982675842433317515   6.408589  0.153680  0.182817  \n",
       "100216512810042512738054357433364423486  10.740067  0.403160  0.000000  \n",
       "100375818383721597063890253100110999488  16.535923  0.413652  0.000000  \n",
       "\n",
       "[5 rows x 254 columns]"
      ]
     },
     "execution_count": 2,
     "metadata": {},
     "output_type": "execute_result"
    }
   ],
   "source": [
    "exp_df = pd.read_csv(\"mouse1_slice221_counts.csv\", index_col=0)\n",
    "exp_df.head()"
   ]
  },
  {
   "cell_type": "code",
   "execution_count": 3,
   "id": "3c6821cf-2254-4b10-900b-984bb9fcf39c",
   "metadata": {
    "execution": {
     "iopub.execute_input": "2024-08-06T01:06:00.020305Z",
     "iopub.status.busy": "2024-08-06T01:06:00.019541Z",
     "iopub.status.idle": "2024-08-06T01:06:00.056949Z",
     "shell.execute_reply": "2024-08-06T01:06:00.056173Z",
     "shell.execute_reply.started": "2024-08-06T01:06:00.020251Z"
    }
   },
   "outputs": [
    {
     "data": {
      "text/html": [
       "<div>\n",
       "<style scoped>\n",
       "    .dataframe tbody tr th:only-of-type {\n",
       "        vertical-align: middle;\n",
       "    }\n",
       "\n",
       "    .dataframe tbody tr th {\n",
       "        vertical-align: top;\n",
       "    }\n",
       "\n",
       "    .dataframe thead th {\n",
       "        text-align: right;\n",
       "    }\n",
       "</style>\n",
       "<table border=\"1\" class=\"dataframe\">\n",
       "  <thead>\n",
       "    <tr style=\"text-align: right;\">\n",
       "      <th></th>\n",
       "      <th>Sample</th>\n",
       "      <th>Cell_Type</th>\n",
       "      <th>x</th>\n",
       "      <th>y</th>\n",
       "    </tr>\n",
       "    <tr>\n",
       "      <th>Cell_ID</th>\n",
       "      <th></th>\n",
       "      <th></th>\n",
       "      <th></th>\n",
       "      <th></th>\n",
       "    </tr>\n",
       "  </thead>\n",
       "  <tbody>\n",
       "    <tr>\n",
       "      <th>100029194729477472162047791686277547250</th>\n",
       "      <td>mouse1_slice221</td>\n",
       "      <td>L2/3 IT</td>\n",
       "      <td>140.941997</td>\n",
       "      <td>-2678.142903</td>\n",
       "    </tr>\n",
       "    <tr>\n",
       "      <th>100141638384685944504186567613653468492</th>\n",
       "      <td>mouse1_slice221</td>\n",
       "      <td>L4/5 IT</td>\n",
       "      <td>490.147986</td>\n",
       "      <td>-3128.267907</td>\n",
       "    </tr>\n",
       "    <tr>\n",
       "      <th>100199724260696365101982675842433317515</th>\n",
       "      <td>mouse1_slice221</td>\n",
       "      <td>L4/5 IT</td>\n",
       "      <td>610.440383</td>\n",
       "      <td>-3286.204808</td>\n",
       "    </tr>\n",
       "    <tr>\n",
       "      <th>100216512810042512738054357433364423486</th>\n",
       "      <td>mouse1_slice221</td>\n",
       "      <td>L6 CT</td>\n",
       "      <td>-993.445405</td>\n",
       "      <td>-3621.462904</td>\n",
       "    </tr>\n",
       "    <tr>\n",
       "      <th>100375818383721597063890253100110999488</th>\n",
       "      <td>mouse1_slice221</td>\n",
       "      <td>L5 ET</td>\n",
       "      <td>-1210.454855</td>\n",
       "      <td>-3070.839903</td>\n",
       "    </tr>\n",
       "  </tbody>\n",
       "</table>\n",
       "</div>"
      ],
      "text/plain": [
       "                                                  Sample Cell_Type  \\\n",
       "Cell_ID                                                              \n",
       "100029194729477472162047791686277547250  mouse1_slice221   L2/3 IT   \n",
       "100141638384685944504186567613653468492  mouse1_slice221   L4/5 IT   \n",
       "100199724260696365101982675842433317515  mouse1_slice221   L4/5 IT   \n",
       "100216512810042512738054357433364423486  mouse1_slice221     L6 CT   \n",
       "100375818383721597063890253100110999488  mouse1_slice221     L5 ET   \n",
       "\n",
       "                                                   x            y  \n",
       "Cell_ID                                                            \n",
       "100029194729477472162047791686277547250   140.941997 -2678.142903  \n",
       "100141638384685944504186567613653468492   490.147986 -3128.267907  \n",
       "100199724260696365101982675842433317515   610.440383 -3286.204808  \n",
       "100216512810042512738054357433364423486  -993.445405 -3621.462904  \n",
       "100375818383721597063890253100110999488 -1210.454855 -3070.839903  "
      ]
     },
     "execution_count": 3,
     "metadata": {},
     "output_type": "execute_result"
    }
   ],
   "source": [
    "meta_info_df = pd.read_csv(\"merfish_mouse1_slice221_24_subclass_meta.csv\", index_col=0)\n",
    "meta_info_df.head()"
   ]
  },
  {
   "cell_type": "code",
   "execution_count": 4,
   "id": "856e4843-07e9-49c8-be5c-2d557df961a4",
   "metadata": {
    "execution": {
     "iopub.execute_input": "2024-08-06T01:06:04.181917Z",
     "iopub.status.busy": "2024-08-06T01:06:04.181204Z",
     "iopub.status.idle": "2024-08-06T01:06:04.192339Z",
     "shell.execute_reply": "2024-08-06T01:06:04.191662Z",
     "shell.execute_reply.started": "2024-08-06T01:06:04.181866Z"
    }
   },
   "outputs": [],
   "source": [
    "ad = adata.AnnData(exp_df)"
   ]
  },
  {
   "cell_type": "code",
   "execution_count": 5,
   "id": "42cd3c73-c4ad-40fb-8137-8ecce6bf6ba1",
   "metadata": {
    "execution": {
     "iopub.execute_input": "2024-08-06T01:06:04.752599Z",
     "iopub.status.busy": "2024-08-06T01:06:04.751875Z",
     "iopub.status.idle": "2024-08-06T01:06:04.768018Z",
     "shell.execute_reply": "2024-08-06T01:06:04.767492Z",
     "shell.execute_reply.started": "2024-08-06T01:06:04.752546Z"
    }
   },
   "outputs": [
    {
     "data": {
      "text/html": [
       "<div>\n",
       "<style scoped>\n",
       "    .dataframe tbody tr th:only-of-type {\n",
       "        vertical-align: middle;\n",
       "    }\n",
       "\n",
       "    .dataframe tbody tr th {\n",
       "        vertical-align: top;\n",
       "    }\n",
       "\n",
       "    .dataframe thead th {\n",
       "        text-align: right;\n",
       "    }\n",
       "</style>\n",
       "<table border=\"1\" class=\"dataframe\">\n",
       "  <thead>\n",
       "    <tr style=\"text-align: right;\">\n",
       "      <th></th>\n",
       "      <th>Sample</th>\n",
       "      <th>Cell_Type</th>\n",
       "      <th>x</th>\n",
       "      <th>y</th>\n",
       "    </tr>\n",
       "    <tr>\n",
       "      <th>index</th>\n",
       "      <th></th>\n",
       "      <th></th>\n",
       "      <th></th>\n",
       "      <th></th>\n",
       "    </tr>\n",
       "  </thead>\n",
       "  <tbody>\n",
       "    <tr>\n",
       "      <th>100029194729477472162047791686277547250</th>\n",
       "      <td>mouse1_slice221</td>\n",
       "      <td>L2/3 IT</td>\n",
       "      <td>140.941997</td>\n",
       "      <td>-2678.142903</td>\n",
       "    </tr>\n",
       "    <tr>\n",
       "      <th>100141638384685944504186567613653468492</th>\n",
       "      <td>mouse1_slice221</td>\n",
       "      <td>L4/5 IT</td>\n",
       "      <td>490.147986</td>\n",
       "      <td>-3128.267907</td>\n",
       "    </tr>\n",
       "    <tr>\n",
       "      <th>100199724260696365101982675842433317515</th>\n",
       "      <td>mouse1_slice221</td>\n",
       "      <td>L4/5 IT</td>\n",
       "      <td>610.440383</td>\n",
       "      <td>-3286.204808</td>\n",
       "    </tr>\n",
       "    <tr>\n",
       "      <th>100216512810042512738054357433364423486</th>\n",
       "      <td>mouse1_slice221</td>\n",
       "      <td>L6 CT</td>\n",
       "      <td>-993.445405</td>\n",
       "      <td>-3621.462904</td>\n",
       "    </tr>\n",
       "    <tr>\n",
       "      <th>100375818383721597063890253100110999488</th>\n",
       "      <td>mouse1_slice221</td>\n",
       "      <td>L5 ET</td>\n",
       "      <td>-1210.454855</td>\n",
       "      <td>-3070.839903</td>\n",
       "    </tr>\n",
       "  </tbody>\n",
       "</table>\n",
       "</div>"
      ],
      "text/plain": [
       "                                                  Sample Cell_Type  \\\n",
       "index                                                                \n",
       "100029194729477472162047791686277547250  mouse1_slice221   L2/3 IT   \n",
       "100141638384685944504186567613653468492  mouse1_slice221   L4/5 IT   \n",
       "100199724260696365101982675842433317515  mouse1_slice221   L4/5 IT   \n",
       "100216512810042512738054357433364423486  mouse1_slice221     L6 CT   \n",
       "100375818383721597063890253100110999488  mouse1_slice221     L5 ET   \n",
       "\n",
       "                                                   x            y  \n",
       "index                                                              \n",
       "100029194729477472162047791686277547250   140.941997 -2678.142903  \n",
       "100141638384685944504186567613653468492   490.147986 -3128.267907  \n",
       "100199724260696365101982675842433317515   610.440383 -3286.204808  \n",
       "100216512810042512738054357433364423486  -993.445405 -3621.462904  \n",
       "100375818383721597063890253100110999488 -1210.454855 -3070.839903  "
      ]
     },
     "execution_count": 5,
     "metadata": {},
     "output_type": "execute_result"
    }
   ],
   "source": [
    "ad.obs = ad.obs.join(meta_info_df)\n",
    "ad.obs.head()"
   ]
  },
  {
   "cell_type": "code",
   "execution_count": 6,
   "id": "38616334-20a1-4923-86a3-abea856c3b84",
   "metadata": {
    "execution": {
     "iopub.execute_input": "2024-08-06T01:06:06.852787Z",
     "iopub.status.busy": "2024-08-06T01:06:06.852085Z",
     "iopub.status.idle": "2024-08-06T01:06:06.859315Z",
     "shell.execute_reply": "2024-08-06T01:06:06.858437Z",
     "shell.execute_reply.started": "2024-08-06T01:06:06.852736Z"
    }
   },
   "outputs": [],
   "source": [
    "ad.obsm['spatial'] = ad.obs[['x', 'y']].values"
   ]
  },
  {
   "cell_type": "markdown",
   "id": "4dc91d75-3b05-4233-9317-d06ad3bfbc0b",
   "metadata": {},
   "source": [
    "# SpaceFlow"
   ]
  },
  {
   "cell_type": "code",
   "execution_count": 7,
   "id": "8239b90b-2f69-45d5-a549-3679517de305",
   "metadata": {
    "execution": {
     "iopub.execute_input": "2024-08-06T01:06:08.673207Z",
     "iopub.status.busy": "2024-08-06T01:06:08.672497Z",
     "iopub.status.idle": "2024-08-06T01:06:08.677310Z",
     "shell.execute_reply": "2024-08-06T01:06:08.676698Z",
     "shell.execute_reply.started": "2024-08-06T01:06:08.673153Z"
    },
    "tags": []
   },
   "outputs": [],
   "source": [
    "sf = SpaceFlow.SpaceFlow(adata=ad)"
   ]
  },
  {
   "cell_type": "code",
   "execution_count": 8,
   "id": "4f176d57-b255-45b7-9477-7199edbd5e1c",
   "metadata": {
    "execution": {
     "iopub.execute_input": "2024-08-06T01:06:09.198667Z",
     "iopub.status.busy": "2024-08-06T01:06:09.197944Z",
     "iopub.status.idle": "2024-08-06T01:06:10.810442Z",
     "shell.execute_reply": "2024-08-06T01:06:10.809697Z",
     "shell.execute_reply.started": "2024-08-06T01:06:09.198613Z"
    },
    "tags": []
   },
   "outputs": [],
   "source": [
    "sf.preprocessing_data(n_top_genes=3000)"
   ]
  },
  {
   "cell_type": "code",
   "execution_count": 9,
   "id": "b8789c51-b9a2-4ea9-bb05-e68418b16649",
   "metadata": {
    "execution": {
     "iopub.execute_input": "2024-08-06T01:06:11.459504Z",
     "iopub.status.busy": "2024-08-06T01:06:11.458122Z",
     "iopub.status.idle": "2024-08-06T01:09:19.519524Z",
     "shell.execute_reply": "2024-08-06T01:09:19.518120Z",
     "shell.execute_reply.started": "2024-08-06T01:06:11.459445Z"
    },
    "tags": []
   },
   "outputs": [
    {
     "name": "stdout",
     "output_type": "stream",
     "text": [
      "Epoch 2/1000, Loss: 3.0752651691436768\n",
      "Epoch 12/1000, Loss: 1.3307634592056274\n",
      "Epoch 22/1000, Loss: 1.192383050918579\n",
      "Epoch 32/1000, Loss: 0.9875540137290955\n",
      "Epoch 42/1000, Loss: 0.7453631162643433\n",
      "Epoch 52/1000, Loss: 0.5520651340484619\n",
      "Epoch 62/1000, Loss: 0.3973483443260193\n",
      "Epoch 72/1000, Loss: 0.28388792276382446\n",
      "Epoch 82/1000, Loss: 0.24018721282482147\n",
      "Epoch 92/1000, Loss: 0.2089693248271942\n",
      "Epoch 102/1000, Loss: 0.19917239248752594\n",
      "Epoch 112/1000, Loss: 0.18425633013248444\n",
      "Epoch 122/1000, Loss: 0.1569722443819046\n",
      "Epoch 132/1000, Loss: 0.15070435404777527\n",
      "Epoch 142/1000, Loss: 0.1377089023590088\n",
      "Epoch 152/1000, Loss: 0.13114844262599945\n",
      "Epoch 162/1000, Loss: 0.13360722362995148\n",
      "Epoch 172/1000, Loss: 0.11866723001003265\n",
      "Epoch 182/1000, Loss: 0.108701691031456\n",
      "Epoch 192/1000, Loss: 0.12664517760276794\n",
      "Epoch 202/1000, Loss: 0.10438628494739532\n",
      "Epoch 212/1000, Loss: 0.11246344447135925\n",
      "Epoch 222/1000, Loss: 0.09558224678039551\n",
      "Epoch 232/1000, Loss: 0.09058406949043274\n",
      "Epoch 242/1000, Loss: 0.09134887903928757\n",
      "Epoch 252/1000, Loss: 0.08593562990427017\n",
      "Epoch 262/1000, Loss: 0.0858609527349472\n",
      "Epoch 272/1000, Loss: 0.08415259420871735\n",
      "Epoch 282/1000, Loss: 0.08090785145759583\n",
      "Epoch 292/1000, Loss: 0.08506689965724945\n",
      "Epoch 302/1000, Loss: 0.07900707423686981\n",
      "Epoch 312/1000, Loss: 0.07994653284549713\n",
      "Epoch 322/1000, Loss: 0.07364283502101898\n",
      "Epoch 332/1000, Loss: 0.07077544927597046\n",
      "Epoch 342/1000, Loss: 0.07815535366535187\n",
      "Epoch 352/1000, Loss: 0.06959684193134308\n",
      "Epoch 362/1000, Loss: 0.07125557214021683\n",
      "Epoch 372/1000, Loss: 0.0699489563703537\n",
      "Epoch 382/1000, Loss: 0.06301192194223404\n",
      "Epoch 392/1000, Loss: 0.07308845221996307\n",
      "Epoch 402/1000, Loss: 0.061197973787784576\n",
      "Epoch 412/1000, Loss: 0.0715365782380104\n",
      "Epoch 422/1000, Loss: 0.06326482445001602\n",
      "Epoch 432/1000, Loss: 0.06629803776741028\n",
      "Epoch 442/1000, Loss: 0.0693977028131485\n",
      "Epoch 452/1000, Loss: 0.06489455699920654\n",
      "Epoch 462/1000, Loss: 0.08209202438592911\n",
      "Epoch 472/1000, Loss: 0.06909286975860596\n",
      "Epoch 482/1000, Loss: 0.058515530079603195\n",
      "Epoch 492/1000, Loss: 0.06049858033657074\n",
      "Epoch 502/1000, Loss: 0.0696423202753067\n",
      "Epoch 512/1000, Loss: 0.06591039896011353\n",
      "Epoch 522/1000, Loss: 0.06041715294122696\n",
      "Epoch 532/1000, Loss: 0.05535373091697693\n",
      "Epoch 542/1000, Loss: 0.052189648151397705\n",
      "Epoch 552/1000, Loss: 0.0627652183175087\n",
      "Training complete!\n",
      "Embedding is saved at ./embedding.tsv\n"
     ]
    },
    {
     "data": {
      "text/plain": [
       "array([[ 5.7445784 , -0.6173095 , -0.30278257, ...,  2.1238809 ,\n",
       "        -0.03326385,  4.4283395 ],\n",
       "       [ 5.5397363 ,  1.795573  , -0.79611814, ...,  1.6170249 ,\n",
       "        -1.1860937 ,  5.4594483 ],\n",
       "       [ 4.284995  ,  1.8112001 , -0.27091178, ...,  0.6132101 ,\n",
       "        -0.87702733,  4.918262  ],\n",
       "       ...,\n",
       "       [ 3.1709356 ,  1.8726271 , -0.45107388, ...,  0.06685683,\n",
       "        -0.99609095,  5.581154  ],\n",
       "       [ 5.490991  , -0.6045971 , -0.57141656, ..., -0.66416025,\n",
       "        -0.6438079 ,  1.8260405 ],\n",
       "       [ 6.3722343 , -0.9088052 , -0.37000507, ...,  1.8349056 ,\n",
       "        -0.19194499,  4.3507867 ]], dtype=float32)"
      ]
     },
     "execution_count": 9,
     "metadata": {},
     "output_type": "execute_result"
    }
   ],
   "source": [
    "sf.train(spatial_regularization_strength=0.1, z_dim=50, lr=1e-3, epochs=1000, max_patience=50, min_stop=100, random_seed=42, gpu=0, regularization_acceleration=True, edge_subset_sz=1000000)"
   ]
  },
  {
   "cell_type": "code",
   "execution_count": 10,
   "id": "db64b42c-2692-4812-8fbb-3a3206b327dd",
   "metadata": {
    "execution": {
     "iopub.execute_input": "2024-08-06T01:09:19.523076Z",
     "iopub.status.busy": "2024-08-06T01:09:19.522600Z",
     "iopub.status.idle": "2024-08-06T01:09:32.663857Z",
     "shell.execute_reply": "2024-08-06T01:09:32.662904Z",
     "shell.execute_reply.started": "2024-08-06T01:09:19.523035Z"
    },
    "tags": []
   },
   "outputs": [
    {
     "name": "stdout",
     "output_type": "stream",
     "text": [
      "Performing domain segmentation\n"
     ]
    },
    {
     "name": "stderr",
     "output_type": "stream",
     "text": [
      "/sc/arion/work/wangw32/conda-env/envs/spaceflow/lib/python3.9/site-packages/tqdm/auto.py:21: TqdmWarning: IProgress not found. Please update jupyter and ipywidgets. See https://ipywidgets.readthedocs.io/en/stable/user_install.html\n",
      "  from .autonotebook import tqdm as notebook_tqdm\n",
      "/sc/arion/work/wangw32/conda-env/envs/spaceflow/lib/python3.9/site-packages/SpaceFlow/SpaceFlow.py:306: FutureWarning: In the future, the default backend for leiden will be igraph instead of leidenalg.\n",
      "\n",
      " To achieve the future defaults please pass: flavor=\"igraph\" and n_iterations=2.  directed must also be False to work with igraph's implementation.\n",
      "  sc.tl.leiden(embedding_adata, resolution=float(resolution))\n"
     ]
    },
    {
     "name": "stdout",
     "output_type": "stream",
     "text": [
      "Segmentation complete, domain labels of cells or spots saved at ./domains.tsv !\n"
     ]
    }
   ],
   "source": [
    "sf.segmentation(domain_label_save_filepath=\"./domains.tsv\", n_neighbors=50, resolution=1.0)"
   ]
  },
  {
   "cell_type": "code",
   "execution_count": 11,
   "id": "44c33aa9-f81a-4e03-a3e0-94303dfbb8e3",
   "metadata": {
    "execution": {
     "iopub.execute_input": "2024-08-06T01:09:32.666071Z",
     "iopub.status.busy": "2024-08-06T01:09:32.665152Z",
     "iopub.status.idle": "2024-08-06T01:09:33.571197Z",
     "shell.execute_reply": "2024-08-06T01:09:33.570262Z",
     "shell.execute_reply.started": "2024-08-06T01:09:32.666040Z"
    },
    "tags": []
   },
   "outputs": [
    {
     "name": "stdout",
     "output_type": "stream",
     "text": [
      "No segmentation data found, please ensure you have run the segmentation() method.\n"
     ]
    },
    {
     "data": {
      "image/png": "[encoded data removed]",
      "text/plain": [
       "<Figure size 400x400 with 1 Axes>"
      ]
     },
     "metadata": {},
     "output_type": "display_data"
    }
   ],
   "source": [
    "sf.plot_segmentation(segmentation_figure_save_filepath=\"./domain_segmentation.pdf\", colormap=\"tab20\", scatter_sz=1., rsz=4., csz=4., wspace=.4, hspace=.5, left=0.125, right=0.9, bottom=0.1, top=0.9)"
   ]
  },
  {
   "cell_type": "code",
   "execution_count": 12,
   "id": "e5eb93a7-9ebb-4c6d-87ac-4a2af7e13be7",
   "metadata": {
    "execution": {
     "iopub.execute_input": "2024-08-06T01:09:33.574561Z",
     "iopub.status.busy": "2024-08-06T01:09:33.573998Z",
     "iopub.status.idle": "2024-08-06T01:09:55.996974Z",
     "shell.execute_reply": "2024-08-06T01:09:55.995306Z",
     "shell.execute_reply.started": "2024-08-06T01:09:33.574535Z"
    },
    "tags": []
   },
   "outputs": [
    {
     "name": "stdout",
     "output_type": "stream",
     "text": [
      "Performing pseudo-Spatiotemporal Map\n",
      "pseudo-Spatiotemporal Map(pSM) calculation complete, pSM values of cells or spots saved at ./pSM_values.tsv!\n"
     ]
    }
   ],
   "source": [
    "sf.pseudo_Spatiotemporal_Map(pSM_values_save_filepath=\"./pSM_values.tsv\", n_neighbors=20, resolution=1.0)"
   ]
  },
  {
   "cell_type": "code",
   "execution_count": 13,
   "id": "bb8fe217-c501-447d-a3ff-5f70613bcdc0",
   "metadata": {
    "execution": {
     "iopub.execute_input": "2024-08-06T01:09:56.000431Z",
     "iopub.status.busy": "2024-08-06T01:09:55.999863Z",
     "iopub.status.idle": "2024-08-06T01:09:58.764642Z",
     "shell.execute_reply": "2024-08-06T01:09:58.763695Z",
     "shell.execute_reply.started": "2024-08-06T01:09:56.000397Z"
    },
    "tags": []
   },
   "outputs": [
    {
     "name": "stdout",
     "output_type": "stream",
     "text": [
      "Plotting complete, pseudo-Spatiotemporal Map figure saved at ./pseudo-Spatiotemporal-Map.pdf !\n"
     ]
    }
   ],
   "source": [
    "sf.plot_pSM(pSM_figure_save_filepath=\"./pseudo-Spatiotemporal-Map.pdf\", colormap=\"roma\", scatter_sz=1., rsz=4., csz=4., wspace=.4, hspace=.5, left=0.125, right=0.9, bottom=0.1, top=0.9)"
   ]
  },
  {
   "cell_type": "code",
   "execution_count": null,
   "id": "df9c4e78-c335-4b44-a846-16c8a5beac89",
   "metadata": {},
   "outputs": [],
   "source": []
  }
 ],
 "metadata": {
  "kernelspec": {
   "display_name": "Python 3.9 (spaceflow)",
   "language": "python",
   "name": "py39_spaceflow"
  },
  "language_info": {
   "codemirror_mode": {
    "name": "ipython",
    "version": 3
   },
   "file_extension": ".py",
   "mimetype": "text/x-python",
   "name": "python",
   "nbconvert_exporter": "python",
   "pygments_lexer": "ipython3",
   "version": "3.9.19"
  }
 },
 "nbformat": 4,
 "nbformat_minor": 5
}
